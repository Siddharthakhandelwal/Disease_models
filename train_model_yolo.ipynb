{
 "cells": [
  {
   "cell_type": "code",
   "execution_count": null,
   "id": "6c119094",
   "metadata": {
    "vscode": {
     "languageId": "plaintext"
    }
   },
   "outputs": [],
   "source": [
    "!pip install ultralytics"
   ]
  },
  {
   "cell_type": "code",
   "execution_count": null,
   "id": "f162ae6b",
   "metadata": {
    "vscode": {
     "languageId": "plaintext"
    }
   },
   "outputs": [],
   "source": [
    "from ultralytics import YOLO\n",
    "\n",
    "# Load a better model variant\n",
    "model = YOLO('yolov8m.pt')  # Use yolov8l.pt if you have more VRAM\n",
    "\n",
    "# Train the model\n",
    "model.train(\n",
    "    data='/kaggle/input/breast-cancer-yolov8/data.yaml',              # Path to your dataset config\n",
    "    epochs=200,                    # More training epochs\n",
    "    patience=20,                   # Early stopping patience\n",
    "    imgsz=832,                     # Higher input resolution\n",
    "    batch=8,                      # Batch size (adjust based on VRAM)\n",
    "    device=0,                      # Use GPU\n",
    "    augment=True,                  # Enable built-in augmentations\n",
    "    val=True,                      # Evaluate on validation set every epoch\n",
    "    save=True,                     # Save checkpoints\n",
    "    name='Breast',   # Run name\n",
    "    project='detect',         # Folder to save results\n",
    ")\n"
   ]
  }
 ],
 "metadata": {
  "language_info": {
   "name": "python"
  }
 },
 "nbformat": 4,
 "nbformat_minor": 5
}
